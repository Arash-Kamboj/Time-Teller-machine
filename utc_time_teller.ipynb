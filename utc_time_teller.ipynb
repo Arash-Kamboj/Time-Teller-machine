{
  "nbformat": 4,
  "nbformat_minor": 0,
  "metadata": {
    "colab": {
      "provenance": [],
      "authorship_tag": "ABX9TyMNk+J+xjgSNLKzQ7jvXWyA",
      "include_colab_link": true
    },
    "kernelspec": {
      "name": "python3",
      "display_name": "Python 3"
    },
    "language_info": {
      "name": "python"
    }
  },
  "cells": [
    {
      "cell_type": "markdown",
      "metadata": {
        "id": "view-in-github",
        "colab_type": "text"
      },
      "source": [
        "<a href=\"https://colab.research.google.com/github/Arash-Kamboj/Time-Teller-machine/blob/main/utc_time_teller.ipynb\" target=\"_parent\"><img src=\"https://colab.research.google.com/assets/colab-badge.svg\" alt=\"Open In Colab\"/></a>"
      ]
    },
    {
      "cell_type": "code",
      "source": [
        "import datetime\n",
        "name = input(\"Enter your name sir/madam: \")\n",
        "def time_teller():\n",
        "  current_hour = datetime.datetime.now().hour\n",
        "  if 5 <= current_hour < 12:\n",
        "      print(f\"Good morning, \\033[1m{name}\\033[0m!\\nIt's {current_hour} am!\")\n",
        "  elif 12 <= current_hour < 18:\n",
        "      print(f\"Good afternoon, \\033[1m{name}\\033[0m!\\nIt's {current_hour} pm!\")\n",
        "  elif 18 <= current_hour < 22:\n",
        "      print(f\"Good evening, \\033[1m{name}\\033[0m!\\nIt's {current_hour} pm!\")\n",
        "  else:\n",
        "      print(f\"Good night, \\033[1m{name}\\033[0m!\\nIt's {current_hour} pm!\")\n",
        "\n",
        "if __name__ == \"__main__\":\n",
        "    time_teller()"
      ],
      "metadata": {
        "id": "ivra02D6VE19"
      },
      "execution_count": null,
      "outputs": []
    }
  ]
}