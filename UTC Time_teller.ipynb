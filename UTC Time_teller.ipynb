{
  "nbformat": 4,
  "nbformat_minor": 0,
  "metadata": {
    "colab": {
      "provenance": [],
      "authorship_tag": "ABX9TyOFrHkiWlcek7T8lL+9/CW1",
      "include_colab_link": true
    },
    "kernelspec": {
      "name": "python3",
      "display_name": "Python 3"
    },
    "language_info": {
      "name": "python"
    }
  },
  "cells": [
    {
      "cell_type": "markdown",
      "metadata": {
        "id": "view-in-github",
        "colab_type": "text"
      },
      "source": [
        "<a href=\"https://colab.research.google.com/github/Arash-Kamboj/Time-Teller-machine/blob/main/Time_teller.ipynb\" target=\"_parent\"><img src=\"https://colab.research.google.com/assets/colab-badge.svg\" alt=\"Open In Colab\"/></a>"
      ]
    },
    {
      "cell_type": "code",
      "source": [
        "import datetime\n",
        "name = input(\"Enter your name: \")\n",
        "def time_teller():\n",
        "  current_hour = datetime.datetime.now().hour\n",
        "  if 5 <= current_hour < 12:\n",
        "      print(f\"Good morning, \\033[1m{name}\\033[0m!\\nIt's {current_hour} am!\")\n",
        "  elif 12 <= current_hour < 18:\n",
        "      print(f\"Good afternoon, \\033[1m{name}\\033[0m!\\nIt's {current_hour} pm!\")\n",
        "  elif 18 <= current_hour < 22:\n",
        "      print(f\"Good evening, \\033[1m{name}\\033[0m!\\nIt's {current_hour} pm!\")\n",
        "  else:\n",
        "      print(f\"Good night, \\033[1m{name}\\033[0m!\\nIt's {current_hour} pm!\")\n",
        "\n",
        "if __name__ == \"__main__\":\n",
        "    time_teller()"
      ],
      "metadata": {
        "id": "ivra02D6VE19",
        "colab": {
          "base_uri": "https://localhost:8080/"
        },
        "outputId": "0d03e01e-0394-49f4-cf91-8b69138424ab"
      },
      "execution_count": 8,
      "outputs": [
        {
          "output_type": "stream",
          "name": "stdout",
          "text": [
            "Enter your name: Arash\n",
            "Good afternoon, \u001b[1mArash\u001b[0m!\n",
            "It's 15 pm!\n"
          ]
        }
      ]
    }
  ]
}
