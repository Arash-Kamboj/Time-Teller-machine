{
  "nbformat": 4,
  "nbformat_minor": 0,
  "metadata": {
    "colab": {
      "provenance": [],
      "authorship_tag": "ABX9TyNsaLxxADYBae6hu4+hIWIO",
      "include_colab_link": true
    },
    "kernelspec": {
      "name": "python3",
      "display_name": "Python 3"
    },
    "language_info": {
      "name": "python"
    }
  },
  "cells": [
    {
      "cell_type": "markdown",
      "metadata": {
        "id": "view-in-github",
        "colab_type": "text"
      },
      "source": [
        "<a href=\"https://colab.research.google.com/github/Arash-Kamboj/Time-Teller-machine/blob/main/Time_teller.ipynb\" target=\"_parent\"><img src=\"https://colab.research.google.com/assets/colab-badge.svg\" alt=\"Open In Colab\"/></a>"
      ]
    },
    {
      "cell_type": "code",
      "execution_count": null,
      "metadata": {
        "colab": {
          "base_uri": "https://localhost:8080/",
          "height": 106
        },
        "id": "qKd-36yFlbkC",
        "outputId": "af403fbc-e45e-4f73-96c3-404f02585f17"
      },
      "outputs": [
        {
          "output_type": "error",
          "ename": "SyntaxError",
          "evalue": "leading zeros in decimal integer literals are not permitted; use an 0o prefix for octal integers (<ipython-input-5-d2fccc5146c4>, line 8)",
          "traceback": [
            "\u001b[0;36m  File \u001b[0;32m\"<ipython-input-5-d2fccc5146c4>\"\u001b[0;36m, line \u001b[0;32m8\u001b[0m\n\u001b[0;31m    elif(12:00:01>=Recenttime<17:00:00):\u001b[0m\n\u001b[0m               ^\u001b[0m\n\u001b[0;31mSyntaxError\u001b[0m\u001b[0;31m:\u001b[0m leading zeros in decimal integer literals are not permitted; use an 0o prefix for octal integers\n"
          ]
        }
      ],
      "source": [
        "import time\n",
        "name = input('Enter your name: ')\n",
        "recenttime = time.strftime('%H:%M:%S')\n",
        "Recenttime = int(time.strftime('%H'))\n",
        "c= name.capitalize()\n",
        "if(24:00:00<=Recenttime<12:00:00):\n",
        "    print('GOOD MORNING',c,'its',recenttime)\n",
        "elif(12:00:01>=Recenttime<17:00:00):\n",
        "    print('GOOD EVENING',c,'its',recenttime)\n",
        "else:\n",
        "    print('GOOD NIGHT',c,'its',recenttime)arry\n",
        "\n"
      ]
    },
    {
      "cell_type": "code",
      "source": [
        "import datetime\n",
        "name = input(\"Enter your name: \")\n",
        "\n",
        "def time_teller():\n",
        " recenttime = time.strftime('%H:%M:%S')\n",
        " Recenttime = int(time.strftime('%H'))\n",
        " if 5 <= Recenttime < 12:\n",
        "    print(f\"Good morning, {name}!\\nIt's {recenttime}\")\n",
        " elif 12 <= Recenttime < 18:\n",
        "    print(f\"Good afternoon, {name}!\\nIt's {recenttime}\")\n",
        " elif 18 <= Recenttime < 22:\n",
        "    print(f\"Good evening, {name}!\\nIt's {recenttime}\")\n",
        " else:\n",
        "    print(f\"Good night, {name}!\\nIt's {recenttime}\")\n",
        "\n",
        "time_teller()"
      ],
      "metadata": {
        "id": "ivra02D6VE19"
      },
      "execution_count": null,
      "outputs": []
    }
  ]
}