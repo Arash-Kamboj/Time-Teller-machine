{
  "nbformat": 4,
  "nbformat_minor": 0,
  "metadata": {
    "colab": {
      "provenance": [],
      "authorship_tag": "ABX9TyPRRgjAhvTLuf+xaThh/y9I",
      "include_colab_link": true
    },
    "kernelspec": {
      "name": "python3",
      "display_name": "Python 3"
    },
    "language_info": {
      "name": "python"
    }
  },
  "cells": [
    {
      "cell_type": "markdown",
      "metadata": {
        "id": "view-in-github",
        "colab_type": "text"
      },
      "source": [
        "<a href=\"https://colab.research.google.com/github/Arash-Kamboj/Time-Teller-machine/blob/main/Time_teller.ipynb\" target=\"_parent\"><img src=\"https://colab.research.google.com/assets/colab-badge.svg\" alt=\"Open In Colab\"/></a>"
      ]
    },
    {
      "cell_type": "code",
      "source": [
        "import datetime\n",
        "name = input(\"Enter your name: \")\n",
        "\n",
        "def time_teller():\n",
        " recenttime = time.strftime('%H:%M:%S')\n",
        " Recenttime = int(time.strftime('%H'))\n",
        " if 5 <= Recenttime < 12:\n",
        "    print(f\"Good morning, {name}!\\nIt's {recenttime}\")\n",
        " elif 12 <= Recenttime < 18:\n",
        "    print(f\"Good afternoon, {name}!\\nIt's {recenttime}\")\n",
        " elif 18 <= Recenttime < 22:\n",
        "    print(f\"Good evening, {name}!\\nIt's {recenttime}\")\n",
        " else:\n",
        "    print(f\"Good night, {name}!\\nIt's {recenttime}\")\n",
        "\n",
        "time_teller()"
      ],
      "metadata": {
        "id": "ivra02D6VE19"
      },
      "execution_count": null,
      "outputs": []
    }
  ]
}